{
 "cells": [
  {
   "cell_type": "code",
   "execution_count": 14,
   "metadata": {},
   "outputs": [],
   "source": [
    "import cv2\n",
    "import numpy as np\n",
    "from PIL import Image"
   ]
  },
  {
   "cell_type": "code",
   "execution_count": 15,
   "metadata": {},
   "outputs": [],
   "source": [
    "path = \"./data/VOCdevkit/VOC2012/SegmentationClass/2007_000033.png\"\n",
    "img = Image.open(path)"
   ]
  },
  {
   "cell_type": "code",
   "execution_count": 16,
   "metadata": {},
   "outputs": [
    {
     "data": {
      "image/png": "[encoded data removed]",
      "text/plain": [
       "<PIL.PngImagePlugin.PngImageFile image mode=P size=500x366 at 0x7F0708E6CDA0>"
      ]
     },
     "execution_count": 16,
     "metadata": {},
     "output_type": "execute_result"
    }
   ],
   "source": [
    "img"
   ]
  },
  {
   "cell_type": "code",
   "execution_count": 17,
   "metadata": {},
   "outputs": [
    {
     "data": {
      "text/plain": [
       "1"
      ]
     },
     "execution_count": 17,
     "metadata": {},
     "output_type": "execute_result"
    }
   ],
   "source": [
    "np.array(img)[150, 200]"
   ]
  },
  {
   "cell_type": "code",
   "execution_count": 18,
   "metadata": {},
   "outputs": [],
   "source": [
    "img_palette = img.getpalette()"
   ]
  },
  {
   "cell_type": "code",
   "execution_count": 19,
   "metadata": {},
   "outputs": [],
   "source": [
    "palette = np.array(img_palette).reshape(256, 3)"
   ]
  },
  {
   "cell_type": "code",
   "execution_count": 20,
   "metadata": {},
   "outputs": [
    {
     "data": {
      "text/plain": [
       "array([[  0,   0,   0],\n",
       "       [128,   0,   0],\n",
       "       [  0, 128,   0],\n",
       "       [128, 128,   0],\n",
       "       [  0,   0, 128],\n",
       "       [128,   0, 128],\n",
       "       [  0, 128, 128],\n",
       "       [128, 128, 128],\n",
       "       [ 64,   0,   0],\n",
       "       [192,   0,   0],\n",
       "       [ 64, 128,   0],\n",
       "       [192, 128,   0],\n",
       "       [ 64,   0, 128],\n",
       "       [192,   0, 128],\n",
       "       [ 64, 128, 128],\n",
       "       [192, 128, 128],\n",
       "       [  0,  64,   0],\n",
       "       [128,  64,   0],\n",
       "       [  0, 192,   0],\n",
       "       [128, 192,   0],\n",
       "       [  0,  64, 128],\n",
       "       [128,  64, 128],\n",
       "       [  0, 192, 128],\n",
       "       [128, 192, 128],\n",
       "       [ 64,  64,   0],\n",
       "       [192,  64,   0],\n",
       "       [ 64, 192,   0],\n",
       "       [192, 192,   0],\n",
       "       [ 64,  64, 128],\n",
       "       [192,  64, 128],\n",
       "       [ 64, 192, 128],\n",
       "       [192, 192, 128],\n",
       "       [  0,   0,  64],\n",
       "       [128,   0,  64],\n",
       "       [  0, 128,  64],\n",
       "       [128, 128,  64],\n",
       "       [  0,   0, 192],\n",
       "       [128,   0, 192],\n",
       "       [  0, 128, 192],\n",
       "       [128, 128, 192],\n",
       "       [ 64,   0,  64],\n",
       "       [192,   0,  64],\n",
       "       [ 64, 128,  64],\n",
       "       [192, 128,  64],\n",
       "       [ 64,   0, 192],\n",
       "       [192,   0, 192],\n",
       "       [ 64, 128, 192],\n",
       "       [192, 128, 192],\n",
       "       [  0,  64,  64],\n",
       "       [128,  64,  64],\n",
       "       [  0, 192,  64],\n",
       "       [128, 192,  64],\n",
       "       [  0,  64, 192],\n",
       "       [128,  64, 192],\n",
       "       [  0, 192, 192],\n",
       "       [128, 192, 192],\n",
       "       [ 64,  64,  64],\n",
       "       [192,  64,  64],\n",
       "       [ 64, 192,  64],\n",
       "       [192, 192,  64],\n",
       "       [ 64,  64, 192],\n",
       "       [192,  64, 192],\n",
       "       [ 64, 192, 192],\n",
       "       [192, 192, 192],\n",
       "       [ 32,   0,   0],\n",
       "       [160,   0,   0],\n",
       "       [ 32, 128,   0],\n",
       "       [160, 128,   0],\n",
       "       [ 32,   0, 128],\n",
       "       [160,   0, 128],\n",
       "       [ 32, 128, 128],\n",
       "       [160, 128, 128],\n",
       "       [ 96,   0,   0],\n",
       "       [224,   0,   0],\n",
       "       [ 96, 128,   0],\n",
       "       [224, 128,   0],\n",
       "       [ 96,   0, 128],\n",
       "       [224,   0, 128],\n",
       "       [ 96, 128, 128],\n",
       "       [224, 128, 128],\n",
       "       [ 32,  64,   0],\n",
       "       [160,  64,   0],\n",
       "       [ 32, 192,   0],\n",
       "       [160, 192,   0],\n",
       "       [ 32,  64, 128],\n",
       "       [160,  64, 128],\n",
       "       [ 32, 192, 128],\n",
       "       [160, 192, 128],\n",
       "       [ 96,  64,   0],\n",
       "       [224,  64,   0],\n",
       "       [ 96, 192,   0],\n",
       "       [224, 192,   0],\n",
       "       [ 96,  64, 128],\n",
       "       [224,  64, 128],\n",
       "       [ 96, 192, 128],\n",
       "       [224, 192, 128],\n",
       "       [ 32,   0,  64],\n",
       "       [160,   0,  64],\n",
       "       [ 32, 128,  64],\n",
       "       [160, 128,  64],\n",
       "       [ 32,   0, 192],\n",
       "       [160,   0, 192],\n",
       "       [ 32, 128, 192],\n",
       "       [160, 128, 192],\n",
       "       [ 96,   0,  64],\n",
       "       [224,   0,  64],\n",
       "       [ 96, 128,  64],\n",
       "       [224, 128,  64],\n",
       "       [ 96,   0, 192],\n",
       "       [224,   0, 192],\n",
       "       [ 96, 128, 192],\n",
       "       [224, 128, 192],\n",
       "       [ 32,  64,  64],\n",
       "       [160,  64,  64],\n",
       "       [ 32, 192,  64],\n",
       "       [160, 192,  64],\n",
       "       [ 32,  64, 192],\n",
       "       [160,  64, 192],\n",
       "       [ 32, 192, 192],\n",
       "       [160, 192, 192],\n",
       "       [ 96,  64,  64],\n",
       "       [224,  64,  64],\n",
       "       [ 96, 192,  64],\n",
       "       [224, 192,  64],\n",
       "       [ 96,  64, 192],\n",
       "       [224,  64, 192],\n",
       "       [ 96, 192, 192],\n",
       "       [224, 192, 192],\n",
       "       [  0,  32,   0],\n",
       "       [128,  32,   0],\n",
       "       [  0, 160,   0],\n",
       "       [128, 160,   0],\n",
       "       [  0,  32, 128],\n",
       "       [128,  32, 128],\n",
       "       [  0, 160, 128],\n",
       "       [128, 160, 128],\n",
       "       [ 64,  32,   0],\n",
       "       [192,  32,   0],\n",
       "       [ 64, 160,   0],\n",
       "       [192, 160,   0],\n",
       "       [ 64,  32, 128],\n",
       "       [192,  32, 128],\n",
       "       [ 64, 160, 128],\n",
       "       [192, 160, 128],\n",
       "       [  0,  96,   0],\n",
       "       [128,  96,   0],\n",
       "       [  0, 224,   0],\n",
       "       [128, 224,   0],\n",
       "       [  0,  96, 128],\n",
       "       [128,  96, 128],\n",
       "       [  0, 224, 128],\n",
       "       [128, 224, 128],\n",
       "       [ 64,  96,   0],\n",
       "       [192,  96,   0],\n",
       "       [ 64, 224,   0],\n",
       "       [192, 224,   0],\n",
       "       [ 64,  96, 128],\n",
       "       [192,  96, 128],\n",
       "       [ 64, 224, 128],\n",
       "       [192, 224, 128],\n",
       "       [  0,  32,  64],\n",
       "       [128,  32,  64],\n",
       "       [  0, 160,  64],\n",
       "       [128, 160,  64],\n",
       "       [  0,  32, 192],\n",
       "       [128,  32, 192],\n",
       "       [  0, 160, 192],\n",
       "       [128, 160, 192],\n",
       "       [ 64,  32,  64],\n",
       "       [192,  32,  64],\n",
       "       [ 64, 160,  64],\n",
       "       [192, 160,  64],\n",
       "       [ 64,  32, 192],\n",
       "       [192,  32, 192],\n",
       "       [ 64, 160, 192],\n",
       "       [192, 160, 192],\n",
       "       [  0,  96,  64],\n",
       "       [128,  96,  64],\n",
       "       [  0, 224,  64],\n",
       "       [128, 224,  64],\n",
       "       [  0,  96, 192],\n",
       "       [128,  96, 192],\n",
       "       [  0, 224, 192],\n",
       "       [128, 224, 192],\n",
       "       [ 64,  96,  64],\n",
       "       [192,  96,  64],\n",
       "       [ 64, 224,  64],\n",
       "       [192, 224,  64],\n",
       "       [ 64,  96, 192],\n",
       "       [192,  96, 192],\n",
       "       [ 64, 224, 192],\n",
       "       [192, 224, 192],\n",
       "       [ 32,  32,   0],\n",
       "       [160,  32,   0],\n",
       "       [ 32, 160,   0],\n",
       "       [160, 160,   0],\n",
       "       [ 32,  32, 128],\n",
       "       [160,  32, 128],\n",
       "       [ 32, 160, 128],\n",
       "       [160, 160, 128],\n",
       "       [ 96,  32,   0],\n",
       "       [224,  32,   0],\n",
       "       [ 96, 160,   0],\n",
       "       [224, 160,   0],\n",
       "       [ 96,  32, 128],\n",
       "       [224,  32, 128],\n",
       "       [ 96, 160, 128],\n",
       "       [224, 160, 128],\n",
       "       [ 32,  96,   0],\n",
       "       [160,  96,   0],\n",
       "       [ 32, 224,   0],\n",
       "       [160, 224,   0],\n",
       "       [ 32,  96, 128],\n",
       "       [160,  96, 128],\n",
       "       [ 32, 224, 128],\n",
       "       [160, 224, 128],\n",
       "       [ 96,  96,   0],\n",
       "       [224,  96,   0],\n",
       "       [ 96, 224,   0],\n",
       "       [224, 224,   0],\n",
       "       [ 96,  96, 128],\n",
       "       [224,  96, 128],\n",
       "       [ 96, 224, 128],\n",
       "       [224, 224, 128],\n",
       "       [ 32,  32,  64],\n",
       "       [160,  32,  64],\n",
       "       [ 32, 160,  64],\n",
       "       [160, 160,  64],\n",
       "       [ 32,  32, 192],\n",
       "       [160,  32, 192],\n",
       "       [ 32, 160, 192],\n",
       "       [160, 160, 192],\n",
       "       [ 96,  32,  64],\n",
       "       [224,  32,  64],\n",
       "       [ 96, 160,  64],\n",
       "       [224, 160,  64],\n",
       "       [ 96,  32, 192],\n",
       "       [224,  32, 192],\n",
       "       [ 96, 160, 192],\n",
       "       [224, 160, 192],\n",
       "       [ 32,  96,  64],\n",
       "       [160,  96,  64],\n",
       "       [ 32, 224,  64],\n",
       "       [160, 224,  64],\n",
       "       [ 32,  96, 192],\n",
       "       [160,  96, 192],\n",
       "       [ 32, 224, 192],\n",
       "       [160, 224, 192],\n",
       "       [ 96,  96,  64],\n",
       "       [224,  96,  64],\n",
       "       [ 96, 224,  64],\n",
       "       [224, 224,  64],\n",
       "       [ 96,  96, 192],\n",
       "       [224,  96, 192],\n",
       "       [ 96, 224, 192],\n",
       "       [224, 224, 192]])"
      ]
     },
     "execution_count": 20,
     "metadata": {},
     "output_type": "execute_result"
    }
   ],
   "source": [
    "palette"
   ]
  },
  {
   "cell_type": "code",
   "execution_count": 49,
   "metadata": {},
   "outputs": [],
   "source": [
    "mask = cv2.imread(path)\n",
    "mask = cv2.cvtColor(mask, cv2.COLOR_BGR2RGB)"
   ]
  },
  {
   "cell_type": "code",
   "execution_count": 24,
   "metadata": {},
   "outputs": [
    {
     "data": {
      "text/plain": [
       "(366, 500, 3)"
      ]
     },
     "execution_count": 24,
     "metadata": {},
     "output_type": "execute_result"
    }
   ],
   "source": [
    "mask.shape"
   ]
  },
  {
   "cell_type": "code",
   "execution_count": 50,
   "metadata": {},
   "outputs": [],
   "source": [
    "data = np.array(mask, dtype='int32')"
   ]
  },
  {
   "cell_type": "code",
   "execution_count": 51,
   "metadata": {},
   "outputs": [],
   "source": [
    "temp = (data[:, :, 0] * 256 + data[:, :, 1]) * 256 + data[:, :, 2]"
   ]
  },
  {
   "cell_type": "code",
   "execution_count": 52,
   "metadata": {},
   "outputs": [
    {
     "data": {
      "text/plain": [
       "8388608"
      ]
     },
     "execution_count": 52,
     "metadata": {},
     "output_type": "execute_result"
    }
   ],
   "source": [
    "temp[150, 200]"
   ]
  },
  {
   "cell_type": "code",
   "execution_count": 27,
   "metadata": {},
   "outputs": [
    {
     "data": {
      "text/plain": [
       "array([128,   0,   0], dtype=uint8)"
      ]
     },
     "execution_count": 27,
     "metadata": {},
     "output_type": "execute_result"
    }
   ],
   "source": [
    "mask[150, 200, :]"
   ]
  },
  {
   "cell_type": "code",
   "execution_count": 46,
   "metadata": {},
   "outputs": [
    {
     "data": {
      "text/plain": [
       "8388608"
      ]
     },
     "execution_count": 46,
     "metadata": {},
     "output_type": "execute_result"
    }
   ],
   "source": [
    "(mask[150, 200, 0] * 256 + mask[150, 200, 1]) * 256 + mask[150, 200, 2]"
   ]
  },
  {
   "cell_type": "code",
   "execution_count": 47,
   "metadata": {},
   "outputs": [],
   "source": [
    "temp = (mask[:, :, 0] * 256.0 + mask[:, :, 1]) * 256.0 + mask[:, :, 2]"
   ]
  },
  {
   "cell_type": "code",
   "execution_count": 48,
   "metadata": {},
   "outputs": [
    {
     "data": {
      "text/plain": [
       "8388608.0"
      ]
     },
     "execution_count": 48,
     "metadata": {},
     "output_type": "execute_result"
    }
   ],
   "source": [
    "temp[150, 200]"
   ]
  },
  {
   "cell_type": "code",
   "execution_count": 25,
   "metadata": {},
   "outputs": [],
   "source": [
    "temp = (mask[:, :, 0] * 256 + mask[:, :, 1]) * 256 + mask[:, :, 2]"
   ]
  },
  {
   "cell_type": "code",
   "execution_count": 26,
   "metadata": {},
   "outputs": [
    {
     "data": {
      "text/plain": [
       "0"
      ]
     },
     "execution_count": 26,
     "metadata": {},
     "output_type": "execute_result"
    }
   ],
   "source": [
    "temp[150, 200]"
   ]
  },
  {
   "cell_type": "code",
   "execution_count": 10,
   "metadata": {},
   "outputs": [],
   "source": [
    "import matplotlib.pyplot as plt"
   ]
  },
  {
   "cell_type": "code",
   "execution_count": 11,
   "metadata": {},
   "outputs": [
    {
     "data": {
      "image/png": "[encoded data removed]",
      "text/plain": [
       "<Figure size 432x288 with 1 Axes>"
      ]
     },
     "metadata": {},
     "output_type": "display_data"
    }
   ],
   "source": [
    "plt.imshow(mask)\n",
    "plt.show()"
   ]
  },
  {
   "cell_type": "code",
   "execution_count": 12,
   "metadata": {},
   "outputs": [
    {
     "data": {
      "text/plain": [
       "array([128,   0,   0], dtype=uint8)"
      ]
     },
     "execution_count": 12,
     "metadata": {},
     "output_type": "execute_result"
    }
   ],
   "source": [
    "mask[150, 200,]"
   ]
  },
  {
   "cell_type": "code",
   "execution_count": null,
   "metadata": {},
   "outputs": [],
   "source": []
  }
 ],
 "metadata": {
  "kernelspec": {
   "display_name": "Python 3",
   "language": "python",
   "name": "python3"
  },
  "language_info": {
   "codemirror_mode": {
    "name": "ipython",
    "version": 3
   },
   "file_extension": ".py",
   "mimetype": "text/x-python",
   "name": "python",
   "nbconvert_exporter": "python",
   "pygments_lexer": "ipython3",
   "version": "3.6.5"
  }
 },
 "nbformat": 4,
 "nbformat_minor": 2
}
